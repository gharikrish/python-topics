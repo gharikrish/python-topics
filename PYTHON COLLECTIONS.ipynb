{
 "cells": [
  {
   "cell_type": "code",
   "execution_count": null,
   "metadata": {},
   "outputs": [],
   "source": [
    "Table of content:\n",
    "    1.Counters\n",
    "    2.OrderedDict\n",
    "    3.DefaultDict\n",
    "    4.Chainmap\n",
    "    5.NamedTuple\n",
    "    6.Deque\n",
    "    7.UserDict\n",
    "    8.UserString"
   ]
  },
  {
   "cell_type": "code",
   "execution_count": null,
   "metadata": {},
   "outputs": [],
   "source": [
    "There are four collection data types in python which are used to store collections of data\n",
    "1.lists\n",
    "2.tuples\n",
    "3.sets\n",
    "4.dicitonary"
   ]
  },
  {
   "cell_type": "code",
   "execution_count": null,
   "metadata": {},
   "outputs": [],
   "source": [
    "specialized collecttions data type\n",
    "1.namedtuple\n",
    "2.chainmap\n",
    "3.deque\n",
    "4.counter\n",
    "5.orderdict\n",
    "6.defaultdict\n",
    "7.userdict\n",
    "8.userlist\n",
    "9.userstring"
   ]
  },
  {
   "cell_type": "markdown",
   "metadata": {},
   "source": [
    "# Named TUPLE"
   ]
  },
  {
   "cell_type": "code",
   "execution_count": 65,
   "metadata": {},
   "outputs": [
    {
     "name": "stdout",
     "output_type": "stream",
     "text": [
      "<class '__main__.student'>\n",
      "student(name='mark', age=23, dob='11-12-2000')\n",
      "student(name='jeffery', age=28, dob='22-1-1992')\n",
      "mark\n",
      "23\n",
      "11-12-2000\n",
      "mark\n",
      "23\n",
      "11-12-2000\n",
      "28\n",
      "student(name='manjeet', age='19', dob='11-12-1987')\n",
      "OrderedDict([('name', 'mark'), ('age', 23), ('dob', '11-12-2000')])\n"
     ]
    }
   ],
   "source": [
    "from collections import namedtuple\n",
    "print(student)\n",
    "#declaring named tuple\n",
    "student = namedtuple('student',['name','age','dob']) \n",
    "\n",
    "#adding values\n",
    "s = student('mark',23,'11-12-2000')\n",
    "a = student('jeffery',28,'22-1-1992')\n",
    "print(s)\n",
    "print(a)\n",
    "\n",
    "#access using index\n",
    "print(s[0])\n",
    "print(s[1])\n",
    "print(s[2])\n",
    "\n",
    "#access using name\n",
    "print(s.name)\n",
    "print(s.age)\n",
    "print(s.dob)\n",
    "\n",
    "print(a[1])\n",
    "\n",
    "\n",
    "\n",
    "\n",
    "#initializing iterable\n",
    "li = ['manjeet','19','11-12-1987']\n",
    "\n",
    "#initilizing dict\n",
    "di = {'name':'nikhil','age':25,'dob':'12-12-1986'}\n",
    "\n",
    "#using make() to retun named tuple\n",
    "print(student._make(li))\n",
    "\n",
    "#using _asdict() to return an orderdict()\n",
    "print(s._asdict())\n"
   ]
  },
  {
   "cell_type": "markdown",
   "metadata": {},
   "source": [
    "# DEQUE"
   ]
  },
  {
   "cell_type": "code",
   "execution_count": 18,
   "metadata": {},
   "outputs": [
    {
     "name": "stdout",
     "output_type": "stream",
     "text": [
      "deque(['c', 'o', 'l', 'l', 'e', 'c', 't', 'i', 'o', 'n'])\n",
      "deque(['python', 'c', 'o', 'l', 'l', 'e', 'c', 't', 'i', 'o', 'n'])\n",
      "deque(['python', 'c', 'o', 'l', 'l', 'e', 'c', 't', 'i', 'o'])\n",
      "deque(['c', 'o', 'l', 'l', 'e', 'c', 't', 'i', 'o'])\n"
     ]
    }
   ],
   "source": [
    "from collections import deque\n",
    "a = ['c','o','l','l','e','c','t','i','o','n']\n",
    "d = deque(a)\n",
    "print(d)\n",
    "\n",
    "#append\n",
    "#d.append('deque')\n",
    "#print(d)\n",
    "\n",
    "#before the deque\n",
    "d.appendleft('python')\n",
    "print(d)\n",
    "\n",
    "#removing value\n",
    "d.pop() #its remove only rightside\n",
    "print(d)\n",
    "\n",
    "d.popleft()\n",
    "print(d)\n",
    "\n"
   ]
  },
  {
   "cell_type": "markdown",
   "metadata": {},
   "source": [
    "# CHAINMAP"
   ]
  },
  {
   "cell_type": "code",
   "execution_count": 24,
   "metadata": {},
   "outputs": [
    {
     "name": "stdout",
     "output_type": "stream",
     "text": [
      "ChainMap({1: 'python', 2: 'AI'}, {3: 'ML', 4: 'data science'})\n"
     ]
    }
   ],
   "source": [
    "from collections import ChainMap\n",
    "a = {1:'python',2:'AI'}\n",
    "b = {3:'ML',4:'data science'}\n",
    "c = ChainMap(a,b)\n",
    "print(c)"
   ]
  },
  {
   "cell_type": "markdown",
   "metadata": {},
   "source": [
    "# COUNTER"
   ]
  },
  {
   "cell_type": "code",
   "execution_count": 33,
   "metadata": {},
   "outputs": [
    {
     "name": "stdout",
     "output_type": "stream",
     "text": [
      "Counter({1: 3, 45: 2, 66: 2, 2: 1, 55: 1})\n",
      "[1, 1, 1, 2, 45, 45, 66, 66, 55]\n",
      "[(1, 3), (45, 2), (66, 2), (2, 1), (55, 1)]\n",
      "None\n",
      "Counter({1: 2, 45: 2, 2: 1, 55: 1, 66: 0})\n"
     ]
    }
   ],
   "source": [
    "from collections import Counter\n",
    "a = [1,1,2,45,66,55,1,45,66]\n",
    "b= Counter(a)\n",
    "print(b)\n",
    "\n",
    "#element function\n",
    "print(list(b.elements()))\n",
    "\n",
    "#most common function\n",
    "print(b.most_common())\n",
    "\n",
    "#subtract\n",
    "sub = {1:1,66:2}\n",
    "print(b.subtract(sub))\n",
    "print(b)"
   ]
  },
  {
   "cell_type": "markdown",
   "metadata": {},
   "source": [
    "# OrderedDict"
   ]
  },
  {
   "cell_type": "code",
   "execution_count": 42,
   "metadata": {},
   "outputs": [
    {
     "name": "stdout",
     "output_type": "stream",
     "text": [
      "OrderedDict([(1, 'p'), (2, 'y'), (3, 't'), (4, 'h'), (5, 'o'), (6, 'n')])\n",
      "odict_keys([1, 2, 3, 4, 5, 6])\n",
      "odict_values(['p', 'y', 't', 'h', 'o', 'n'])\n",
      "odict_items([(1, 'p'), (2, 'y'), (3, 't'), (4, 'h'), (5, 'o'), (6, 'n')])\n",
      "OrderedDict([(1, 's'), (2, 'y'), (3, 't'), (4, 'h'), (5, 'o'), (6, 'n')])\n"
     ]
    }
   ],
   "source": [
    "from collections import OrderedDict\n",
    "d = OrderedDict()\n",
    "d[1] = 'p'\n",
    "d[2] = 'y'\n",
    "d[3] = 't'\n",
    "d[4] = 'h'\n",
    "d[5] = 'o'\n",
    "d[6] = 'n'\n",
    "print(d)\n",
    "\n",
    "#keys()\n",
    "print(d.keys())\n",
    "\n",
    "#values()\n",
    "print(d.values())\n",
    "\n",
    "#items()\n",
    "print(d.items())\n",
    "\n",
    "d[1] ='s'\n",
    "print(d)"
   ]
  },
  {
   "cell_type": "markdown",
   "metadata": {},
   "source": [
    "# defaultdict"
   ]
  },
  {
   "cell_type": "code",
   "execution_count": 49,
   "metadata": {},
   "outputs": [
    {
     "name": "stdout",
     "output_type": "stream",
     "text": [
      "defaultdict(<class 'int'>, {1: 'python', 2: 'java'})\n",
      "0\n",
      "{1: 'python', 2: 'java'}\n",
      "python\n"
     ]
    }
   ],
   "source": [
    "from collections import defaultdict\n",
    "d = defaultdict(int)\n",
    "d[1] = 'python'\n",
    "d[2] = 'java'\n",
    "print(d)\n",
    "print(d[3])\n",
    "\n",
    "#ordinary dicitionary\n",
    "a = {1:'python',2:'java'}\n",
    "print(a)\n",
    "print(a[1])\n",
    "#print(a[3]) # ordinary dicitionary give key error"
   ]
  },
  {
   "cell_type": "markdown",
   "metadata": {},
   "source": [
    "# from keys"
   ]
  },
  {
   "cell_type": "code",
   "execution_count": 66,
   "metadata": {},
   "outputs": [
    {
     "name": "stdout",
     "output_type": "stream",
     "text": [
      "{'key 1': 0, 'key 2': 0, 'key 3': 0}\n"
     ]
    }
   ],
   "source": [
    "x = ('key 1','key 2','key 3')\n",
    "y = 0\n",
    "a = dict.fromkeys(x,y)\n",
    "print(a)"
   ]
  },
  {
   "cell_type": "code",
   "execution_count": 67,
   "metadata": {},
   "outputs": [
    {
     "name": "stdout",
     "output_type": "stream",
     "text": [
      "{'key 1': None, 'key 2': None, 'key 3': None}\n"
     ]
    }
   ],
   "source": [
    "x = ('key 1','key 2','key 3')\n",
    "a = dict.fromkeys(x)\n",
    "print(a)"
   ]
  },
  {
   "cell_type": "code",
   "execution_count": 68,
   "metadata": {},
   "outputs": [
    {
     "name": "stdout",
     "output_type": "stream",
     "text": [
      "{'o': None, 'i': None, 'e': None, 'a': None, 'u': None}\n"
     ]
    }
   ],
   "source": [
    "#vowels keys\n",
    "keys = {'a','e','i','o','u'}\n",
    "vowels = dict.fromkeys(keys)\n",
    "print(vowels)"
   ]
  },
  {
   "cell_type": "code",
   "execution_count": null,
   "metadata": {},
   "outputs": [],
   "source": []
  }
 ],
 "metadata": {
  "kernelspec": {
   "display_name": "Python 3",
   "language": "python",
   "name": "python3"
  },
  "language_info": {
   "codemirror_mode": {
    "name": "ipython",
    "version": 3
   },
   "file_extension": ".py",
   "mimetype": "text/x-python",
   "name": "python",
   "nbconvert_exporter": "python",
   "pygments_lexer": "ipython3",
   "version": "3.7.4"
  }
 },
 "nbformat": 4,
 "nbformat_minor": 2
}
