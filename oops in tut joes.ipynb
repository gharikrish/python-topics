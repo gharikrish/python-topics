{
 "cells": [
  {
   "cell_type": "code",
   "execution_count": null,
   "metadata": {},
   "outputs": [],
   "source": [
    "class and object\n",
    "a class is a blueprint or serves as a template from which individual object are created\n",
    "\n",
    "a object is an instance of a class which consists of methods and properties"
   ]
  },
  {
   "cell_type": "code",
   "execution_count": 3,
   "metadata": {},
   "outputs": [],
   "source": [
    "class car():\n",
    "    pass\n"
   ]
  },
  {
   "cell_type": "code",
   "execution_count": 4,
   "metadata": {},
   "outputs": [
    {
     "name": "stdout",
     "output_type": "stream",
     "text": [
      "<class 'int'>\n",
      "<class 'type'>\n",
      "True\n",
      "<class '__main__.car'>\n"
     ]
    }
   ],
   "source": [
    "a = 10\n",
    "print(type(a))\n",
    "print(type(car))\n",
    "\n",
    "swift = car()\n",
    "print(isinstance(swift,car))\n",
    "print(type(swift))\n",
    "\n"
   ]
  },
  {
   "cell_type": "code",
   "execution_count": 26,
   "metadata": {},
   "outputs": [
    {
     "name": "stdout",
     "output_type": "stream",
     "text": [
      "ramkumar\n",
      "25\n",
      "no such attribute\n",
      "ramkumar\n",
      "25\n",
      "tutor joes\n",
      "male\n",
      "chennai\n",
      "{'__module__': '__main__', 'name': 'tutor joes', 'age': 25, '__dict__': <attribute '__dict__' of 'student' objects>, '__weakref__': <attribute '__weakref__' of 'student' objects>, '__doc__': None, 'gender': 'male', 'city': 'chennai'}\n",
      "{'__module__': '__main__', 'name': 'tutor joes', 'age': 25, '__dict__': <attribute '__dict__' of 'student' objects>, '__weakref__': <attribute '__weakref__' of 'student' objects>, '__doc__': None, 'gender': 'male'}\n",
      "{'__module__': '__main__', 'name': 'tutor joes', 'age': 25, '__dict__': <attribute '__dict__' of 'student' objects>, '__weakref__': <attribute '__weakref__' of 'student' objects>, '__doc__': None}\n"
     ]
    }
   ],
   "source": [
    "class student():\n",
    "    name = \"ramkumar\"\n",
    "    age  = 25\n",
    "    \n",
    "# get attribute method\n",
    "print(getattr(student,'name'))\n",
    "print(getattr(student,'age'))\n",
    "print(getattr(student,'gender','no such attribute'))\n",
    "\n",
    "\n",
    "#dot notation\n",
    "print(student.name)\n",
    "print(student.age)\n",
    "\n",
    "#set a attr value or modify\n",
    "setattr(student,'name','tutor joes')\n",
    "print(student.name)\n",
    "setattr(student,'gender','male')\n",
    "print(student.gender)\n",
    "\n",
    "\n",
    "#dot notation method\n",
    "student.city =\"chennai\"\n",
    "print(student.city)\n",
    "\n",
    "print(student.__dict__)\n",
    "\n",
    "delattr(student,'city')\n",
    "print(student.__dict__)\n",
    "\n",
    "del student.gender\n",
    "print(student.__dict__)"
   ]
  },
  {
   "cell_type": "markdown",
   "metadata": {},
   "source": [
    "#  INSTANCE ATTRIBUTES IN PYTHON"
   ]
  },
  {
   "cell_type": "code",
   "execution_count": 35,
   "metadata": {},
   "outputs": [
    {
     "name": "stdout",
     "output_type": "stream",
     "text": [
      "{'__module__': '__main__', 'course': 'python', '__dict__': <attribute '__dict__' of 'user' objects>, '__weakref__': <attribute '__weakref__' of 'user' objects>, '__doc__': None}\n",
      "python\n",
      "{}\n",
      "python\n",
      "machine learning\n",
      "{'__module__': '__main__', 'course': 'python', '__dict__': <attribute '__dict__' of 'user' objects>, '__weakref__': <attribute '__weakref__' of 'user' objects>, '__doc__': None}\n",
      "{'course': 'machine learning'}\n"
     ]
    }
   ],
   "source": [
    "class user:\n",
    "    course = 'python'\n",
    "o = user()\n",
    "print(user.__dict__)\n",
    "print(user.course)\n",
    "print(o.__dict__)\n",
    "print(o.course)\n",
    "o.course = 'machine learning'\n",
    "print(o.course)\n",
    "print(user.__dict__)\n",
    "print(o.__dict__)"
   ]
  },
  {
   "cell_type": "code",
   "execution_count": 39,
   "metadata": {},
   "outputs": [
    {
     "name": "stdout",
     "output_type": "stream",
     "text": [
      "{'course': 'artificial intelligence'}\n",
      "{'__module__': '__main__', 'course': 'python', '__dict__': <attribute '__dict__' of 'user' objects>, '__weakref__': <attribute '__weakref__' of 'user' objects>, '__doc__': None}\n",
      "machine learning\n",
      "artificial intelligence\n",
      "python\n"
     ]
    }
   ],
   "source": [
    "a = user()\n",
    "a.course = \"artificial intelligence\"\n",
    "print(a.__dict__)\n",
    "print(user.__dict__)\n",
    "print(o.course)\n",
    "print(a.course)\n",
    "\n",
    "b = user()\n",
    "print(b.course)"
   ]
  },
  {
   "cell_type": "markdown",
   "metadata": {},
   "source": [
    "#  class methods"
   ]
  },
  {
   "cell_type": "code",
   "execution_count": 40,
   "metadata": {},
   "outputs": [],
   "source": [
    "class student:\n",
    "    name = \"tutor joes\"\n",
    "    age = 25\n",
    "    def printall():\n",
    "        print(\"name : \",student.name)\n",
    "        print(\"age  : \",student.age)\n",
    "    \n",
    "        "
   ]
  },
  {
   "cell_type": "code",
   "execution_count": 41,
   "metadata": {},
   "outputs": [
    {
     "name": "stdout",
     "output_type": "stream",
     "text": [
      "name :  tutor joes\n",
      "age  :  25\n"
     ]
    }
   ],
   "source": [
    "student.printall()"
   ]
  },
  {
   "cell_type": "code",
   "execution_count": 42,
   "metadata": {},
   "outputs": [
    {
     "name": "stdout",
     "output_type": "stream",
     "text": [
      "{'__module__': '__main__', 'name': 'tutor joes', 'age': 25, 'printall': <function student.printall at 0x00000000051F5B88>, '__dict__': <attribute '__dict__' of 'student' objects>, '__weakref__': <attribute '__weakref__' of 'student' objects>, '__doc__': None}\n"
     ]
    }
   ],
   "source": [
    "print(student.__dict__)"
   ]
  },
  {
   "cell_type": "code",
   "execution_count": 43,
   "metadata": {},
   "outputs": [
    {
     "name": "stdout",
     "output_type": "stream",
     "text": [
      "<function student.printall at 0x00000000051F5B88>\n"
     ]
    }
   ],
   "source": [
    "print(getattr(student,\"printall\"))"
   ]
  },
  {
   "cell_type": "code",
   "execution_count": 45,
   "metadata": {},
   "outputs": [
    {
     "name": "stdout",
     "output_type": "stream",
     "text": [
      "name :  tutor joes\n",
      "age  :  25\n",
      "None\n"
     ]
    }
   ],
   "source": [
    "print(student.__dict__['printall']())"
   ]
  },
  {
   "cell_type": "code",
   "execution_count": 46,
   "metadata": {},
   "outputs": [
    {
     "name": "stdout",
     "output_type": "stream",
     "text": [
      "{'__module__': '__main__', 'name': 'tutor joes', 'age': 25, 'printall': <function student.printall at 0x00000000051F5B88>, '__dict__': <attribute '__dict__' of 'student' objects>, '__weakref__': <attribute '__weakref__' of 'student' objects>, '__doc__': None}\n"
     ]
    }
   ],
   "source": [
    "print(student.__dict__)"
   ]
  },
  {
   "cell_type": "markdown",
   "metadata": {},
   "source": [
    "# INSTANCE METHOD"
   ]
  },
  {
   "cell_type": "code",
   "execution_count": 65,
   "metadata": {},
   "outputs": [],
   "source": [
    "class student:\n",
    "    name = 'hari krishnan'\n",
    "    age  = 25\n",
    "    def printall(self): # self is instance method\n",
    "        print(\"name  : \",student.name)\n",
    "        print(\"age   : \",student.age)"
   ]
  },
  {
   "cell_type": "code",
   "execution_count": 66,
   "metadata": {},
   "outputs": [
    {
     "name": "stdout",
     "output_type": "stream",
     "text": [
      "name  :  hari krishnan\n",
      "age   :  25\n"
     ]
    }
   ],
   "source": [
    "o = student()\n",
    "o.printall()"
   ]
  },
  {
   "cell_type": "code",
   "execution_count": 67,
   "metadata": {},
   "outputs": [],
   "source": [
    "class student:\n",
    "    name = 'hari krishnan'\n",
    "    age  = 25\n",
    "    def printall(self,gender): # self is instance method\n",
    "        print(\"name  : \",student.name)\n",
    "        print(\"age   : \",student.age)\n",
    "        print(\"gender:\",gender)\n",
    "    "
   ]
  },
  {
   "cell_type": "code",
   "execution_count": 69,
   "metadata": {},
   "outputs": [
    {
     "name": "stdout",
     "output_type": "stream",
     "text": [
      "name  :  hari krishnan\n",
      "age   :  25\n",
      "gender: male\n"
     ]
    }
   ],
   "source": [
    "a = student()\n",
    "a.printall(\"male\")"
   ]
  },
  {
   "cell_type": "markdown",
   "metadata": {},
   "source": [
    "#  CONSTRUCTOR OR _ _ INIT _ _ METHOD"
   ]
  },
  {
   "cell_type": "code",
   "execution_count": 70,
   "metadata": {},
   "outputs": [],
   "source": [
    "class user:\n",
    "    def __init__(self):\n",
    "        print(\"call when new instance created\")"
   ]
  },
  {
   "cell_type": "code",
   "execution_count": 72,
   "metadata": {},
   "outputs": [
    {
     "name": "stdout",
     "output_type": "stream",
     "text": [
      "call when new instance created\n",
      "call when new instance created\n"
     ]
    }
   ],
   "source": [
    "o = user()\n",
    "o1 = user()"
   ]
  },
  {
   "cell_type": "code",
   "execution_count": 80,
   "metadata": {},
   "outputs": [],
   "source": [
    "class user:\n",
    "    def __init__(self,name):\n",
    "        print(\"call when new instance created\")\n",
    "        self.name = name\n",
    "        \n",
    "    def printall(self):\n",
    "        print(\"name : \",self.name)"
   ]
  },
  {
   "cell_type": "code",
   "execution_count": 84,
   "metadata": {},
   "outputs": [
    {
     "name": "stdout",
     "output_type": "stream",
     "text": [
      "call when new instance created\n",
      "name :  hari\n",
      "call when new instance created\n",
      "name :  pradeep\n",
      "{'name': 'hari'}\n",
      "{'name': 'pradeep'}\n",
      "{'__module__': '__main__', '__init__': <function user.__init__ at 0x0000000005228B88>, 'printall': <function user.printall at 0x0000000005228C18>, '__dict__': <attribute '__dict__' of 'user' objects>, '__weakref__': <attribute '__weakref__' of 'user' objects>, '__doc__': None}\n"
     ]
    }
   ],
   "source": [
    "o = user(\"hari\") \n",
    "o.printall()\n",
    "\n",
    "s = user(\"pradeep\")\n",
    "s.printall()\n",
    "print(o.__dict__)\n",
    "print(s.__dict__)\n",
    "print(user.__dict__)"
   ]
  },
  {
   "cell_type": "markdown",
   "metadata": {},
   "source": [
    "# property decorator"
   ]
  },
  {
   "cell_type": "code",
   "execution_count": 87,
   "metadata": {},
   "outputs": [],
   "source": [
    "class user:\n",
    "    def __init__(self,name,age):\n",
    "        self.name = name\n",
    "        self.age = age\n",
    "        self.msg = \"hi i'm \" + self.name +\" my age is\"+ str(self.age)"
   ]
  },
  {
   "cell_type": "code",
   "execution_count": 92,
   "metadata": {},
   "outputs": [
    {
     "name": "stdout",
     "output_type": "stream",
     "text": [
      "hari\n",
      "25\n",
      "hi i'm hari my age is25\n"
     ]
    }
   ],
   "source": [
    "o = user(\"hari\",25)\n",
    "print(o.name)\n",
    "print(o.age)\n",
    "print(o.msg)"
   ]
  },
  {
   "cell_type": "code",
   "execution_count": 97,
   "metadata": {},
   "outputs": [],
   "source": [
    "class user:\n",
    "    def __init__(self,name,age):\n",
    "        self.name = name\n",
    "        self.age = age\n",
    "        #self.msg = \"hi i'm \" + self.name +\" my age is\"+ str(self.age)\n",
    "    @property\n",
    "    def msg(self):\n",
    "        return \"hi i'm \" + self.name +\" my age is\"+ str(self.age)\n",
    "    "
   ]
  },
  {
   "cell_type": "code",
   "execution_count": 98,
   "metadata": {},
   "outputs": [
    {
     "name": "stdout",
     "output_type": "stream",
     "text": [
      "hari\n",
      "25\n",
      "hi i'm hari my age is25\n"
     ]
    }
   ],
   "source": [
    "o = user(\"hari\",25)\n",
    "print(o.name)\n",
    "print(o.age)\n",
    "print(o.msg)"
   ]
  },
  {
   "cell_type": "markdown",
   "metadata": {},
   "source": [
    "# property decorator getter and setter"
   ]
  },
  {
   "cell_type": "code",
   "execution_count": 110,
   "metadata": {},
   "outputs": [
    {
     "data": {
      "text/plain": [
       "'class student:\\n        def __init__(self,total):\\n            self.total = total\\n\\n        def avg(self):\\n            return self.total / 5.0 '"
      ]
     },
     "execution_count": 110,
     "metadata": {},
     "output_type": "execute_result"
    }
   ],
   "source": [
    "\"\"\"class student:\n",
    "        def __init__(self,total):\n",
    "            self.total = total\n",
    "\n",
    "        def avg(self):\n",
    "            return self.total / 5.0 \"\"\""
   ]
  },
  {
   "cell_type": "code",
   "execution_count": 100,
   "metadata": {},
   "outputs": [],
   "source": [
    "o = student(450)"
   ]
  },
  {
   "cell_type": "code",
   "execution_count": 101,
   "metadata": {},
   "outputs": [
    {
     "name": "stdout",
     "output_type": "stream",
     "text": [
      "90.0\n"
     ]
    }
   ],
   "source": [
    "print(o.avg())"
   ]
  },
  {
   "cell_type": "code",
   "execution_count": 102,
   "metadata": {},
   "outputs": [],
   "source": [
    "o.total = 250"
   ]
  },
  {
   "cell_type": "code",
   "execution_count": 103,
   "metadata": {},
   "outputs": [
    {
     "name": "stdout",
     "output_type": "stream",
     "text": [
      "250\n",
      "50.0\n"
     ]
    }
   ],
   "source": [
    "print(o.total)\n",
    "print(o.avg())"
   ]
  },
  {
   "cell_type": "code",
   "execution_count": 104,
   "metadata": {},
   "outputs": [],
   "source": [
    "# python don't have private and public ,but we do for naming conversion"
   ]
  },
  {
   "cell_type": "code",
   "execution_count": 120,
   "metadata": {},
   "outputs": [],
   "source": [
    "class studen:\n",
    "    def __init__(self,total):\n",
    "        self._total = total\n",
    "        \n",
    "    def avg(self):\n",
    "        return self._total / 5.0\n",
    "    @property\n",
    "    def total(self):\n",
    "        return self._total\n",
    "    @total.setter\n",
    "    def total(self,t):\n",
    "        self.total = t"
   ]
  },
  {
   "cell_type": "code",
   "execution_count": null,
   "metadata": {},
   "outputs": [],
   "source": [
    "o = studen(450)\n",
    "print(o.avg())\n",
    "o.total = 250\n",
    "print(o.total)\n",
    "print(o.avg())"
   ]
  },
  {
   "cell_type": "code",
   "execution_count": 113,
   "metadata": {},
   "outputs": [
    {
     "name": "stdout",
     "output_type": "stream",
     "text": [
      "250\n",
      "90.0\n"
     ]
    }
   ],
   "source": [
    "o.total = 250\n",
    "print(o.total)\n",
    "print(o.avg())"
   ]
  },
  {
   "cell_type": "markdown",
   "metadata": {},
   "source": [
    "#  Data Abstraction"
   ]
  },
  {
   "cell_type": "code",
   "execution_count": null,
   "metadata": {},
   "outputs": [],
   "source": [
    "Data abstraction refers to provide only essential information\n",
    "to the outside world and hiding their background details.\n",
    "\n",
    "To represent the needed information in program without presenting\n",
    "the details  \n"
   ]
  },
  {
   "cell_type": "markdown",
   "metadata": {},
   "source": [
    "#  Data Encapsulation"
   ]
  },
  {
   "cell_type": "code",
   "execution_count": null,
   "metadata": {},
   "outputs": [],
   "source": [
    "Encapsulation is a process of wrapping code and data together into a single unit"
   ]
  },
  {
   "cell_type": "code",
   "execution_count": null,
   "metadata": {},
   "outputs": [
    {
     "name": "stdout",
     "output_type": "stream",
     "text": [
      "\n",
      "        1.Display book\n",
      "        2.borrow book\n",
      "        3.return book\n",
      "\n",
      "        \n",
      "enter your choice : 1\n",
      "Available Books\n",
      "c\n",
      "c++\n",
      "java\n",
      "pytho\n",
      ".net\n",
      "\n",
      "        1.Display book\n",
      "        2.borrow book\n",
      "        3.return book\n",
      "\n",
      "        \n",
      "enter your choice : 2\n",
      "enter your book name : .net\n",
      "Get Your Book\n",
      "\n",
      "        1.Display book\n",
      "        2.borrow book\n",
      "        3.return book\n",
      "\n",
      "        \n",
      "enter your choice : 1\n",
      "Available Books\n",
      "c\n",
      "c++\n",
      "java\n",
      "pytho\n",
      "\n",
      "        1.Display book\n",
      "        2.borrow book\n",
      "        3.return book\n",
      "\n",
      "        \n",
      "enter your choice : 3\n",
      "enter the book name to return : .net\n",
      "You Have Returned The Book\n",
      "\n",
      "        1.Display book\n",
      "        2.borrow book\n",
      "        3.return book\n",
      "\n",
      "        \n",
      "enter your choice : 3\n",
      "enter the book name to return : harry potter\n",
      "You Have Returned The Book\n",
      "\n",
      "        1.Display book\n",
      "        2.borrow book\n",
      "        3.return book\n",
      "\n",
      "        \n",
      "enter your choice : 3\n",
      "enter the book name to return : scary coher\n",
      "You Have Returned The Book\n",
      "\n",
      "        1.Display book\n",
      "        2.borrow book\n",
      "        3.return book\n",
      "\n",
      "        \n",
      "enter your choice : 1\n",
      "Available Books\n",
      "c\n",
      "c++\n",
      "java\n",
      "pytho\n",
      ".net\n",
      "harry potter\n",
      "scary coher\n",
      "\n",
      "        1.Display book\n",
      "        2.borrow book\n",
      "        3.return book\n",
      "\n",
      "        \n",
      "enter your choice : 2\n",
      "enter your book name : lp\n",
      "book not available\n",
      "\n",
      "        1.Display book\n",
      "        2.borrow book\n",
      "        3.return book\n",
      "\n",
      "        \n",
      "enter your choice : 7\n",
      "thank u come again\n",
      "\n",
      "        1.Display book\n",
      "        2.borrow book\n",
      "        3.return book\n",
      "\n",
      "        \n"
     ]
    }
   ],
   "source": [
    "class library:\n",
    "    def __init__(self,books):\n",
    "        self.books = books\n",
    "    \n",
    "    def list_books(self):\n",
    "        print(\"Available Books\")\n",
    "        for book in self.books:\n",
    "            print(book)\n",
    "    def borrow_books(self,borrow_book):\n",
    "        if borrow_book in self.books:\n",
    "            print(\"Get Your Book\")\n",
    "            self.books.remove(borrow_book)\n",
    "        else:\n",
    "            print('book not available')\n",
    "    def recevie_book(self,recevie_book):\n",
    "        print(\"You Have Returned The Book\")\n",
    "        self.books.append(recevie_book)\n",
    "\n",
    "        \n",
    "books = ['c','c++','java','pytho','.net']\n",
    "o = library(books)\n",
    "msg = \"\"\"\n",
    "        1.Display book\n",
    "        2.borrow book\n",
    "        3.return book\n",
    "\n",
    "        \"\"\"\n",
    "while True:\n",
    "    print(msg)\n",
    "    ch = int(input(\"enter your choice : \"))\n",
    "    \n",
    "    if ch==1:\n",
    "        o.list_books()\n",
    "    elif ch == 2:\n",
    "        book = input(\"enter your book name : \")\n",
    "        o.borrow_books(book)\n",
    "    elif ch == 3:\n",
    "        book = input(\"enter the book name to return : \")\n",
    "        o.recevie_book(book)\n",
    "    else:\n",
    "        print(\"thank u come again\")\n",
    "        quit()\n",
    "\n",
    "        "
   ]
  },
  {
   "cell_type": "code",
   "execution_count": null,
   "metadata": {},
   "outputs": [],
   "source": [
    "books = ['c','c++','java','pytho','.net']\n",
    "o.library(books)\n",
    "msg = \"\"\"\n",
    "        1.Display book\n",
    "        2.borrow book\n",
    "        3.return book\n",
    "\n",
    "        \"\"\"\n",
    "while True:\n",
    "    print(msg)\n",
    "    ch = int(input(\"enter your choice : \"))\n",
    "    \n",
    "    if ch == 1:\n",
    "        o.llist_books()\n",
    "    elif ch == 2:\n",
    "        o.book = input(\"enter your book name : \")\n",
    "        borrow_books(book)\n",
    "    elif ch == 3:\n",
    "        book = input(\"enter the book name to return : \")\n",
    "        o.recevie_book(book)\n",
    "    else:\n",
    "        print(\"thank u come again\")\n",
    "        quit()"
   ]
  },
  {
   "cell_type": "markdown",
   "metadata": {},
   "source": [
    "#  INHERITANCE\n"
   ]
  },
  {
   "cell_type": "code",
   "execution_count": null,
   "metadata": {},
   "outputs": [],
   "source": [
    "single inheritance\n",
    "\n",
    " inheritance is a process in which one object acquires all the properties and behaviours of its parent object automatically.\n",
    "    \n",
    "single inheritance is  defined as the inheritance in which a derived class is inherited from the only one base class.\n",
    "\n",
    "            BASE  ------>    DERIVED"
   ]
  },
  {
   "cell_type": "code",
   "execution_count": 4,
   "metadata": {},
   "outputs": [],
   "source": [
    "class nokia :\n",
    "    company = 'nokia india'\n",
    "    website = 'www.nokia-india.com'\n",
    "    \n",
    "    def contact_details(self):\n",
    "        print('address : sriperm highway , chennai')\n",
    "        \n",
    "class nokia1100(nokia):\n",
    "    def __init__(self):\n",
    "        self.name = 'nokia 1100'\n",
    "        self.year = 1998\n",
    "        \n",
    "    def product_details(self):\n",
    "        print('name :',self.name)\n",
    "        print('year : ',self.year)\n",
    "        print('company',self.company)\n",
    "        print('website',self.website)\n",
    "        \n",
    "        \n"
   ]
  },
  {
   "cell_type": "code",
   "execution_count": 9,
   "metadata": {},
   "outputs": [
    {
     "name": "stdout",
     "output_type": "stream",
     "text": [
      "name : nokia 1100\n",
      "year :  1998\n",
      "company nokia india\n",
      "website www.nokia-india.com\n",
      "address : sriperm highway , chennai\n"
     ]
    }
   ],
   "source": [
    "o = nokia1100()\n",
    "o. product_details()\n",
    "\n",
    "\n",
    "o.contact_details()"
   ]
  },
  {
   "cell_type": "code",
   "execution_count": null,
   "metadata": {},
   "outputs": [],
   "source": [
    "MULTILPLE INHERITANCE\n",
    "\n",
    " multiple inheritance is a feature of object oriented concept,where a class  can inherit properties of more than one parent\n",
    " Class\n",
    "\n",
    "  C ---> A\n",
    "  C ---> B\n",
    "    "
   ]
  },
  {
   "cell_type": "code",
   "execution_count": 10,
   "metadata": {},
   "outputs": [],
   "source": [
    "#multiple inheritance\n",
    "class father:\n",
    "    def fishing(self):\n",
    "        print('fishing rivers')\n",
    "        \n",
    "    def chess(self):\n",
    "        print('playing chess from father')\n",
    "        \n",
    "class mother:\n",
    "    def cooking(self):\n",
    "        print('cooking food')\n",
    "    \n",
    "    def chess(self):\n",
    "        print('playing chess from mother')\n",
    "         \n",
    "class son(mother,father):\n",
    "    def ride(self):\n",
    "        print('riding bicycle')"
   ]
  },
  {
   "cell_type": "code",
   "execution_count": 19,
   "metadata": {},
   "outputs": [],
   "source": [
    "o = son()"
   ]
  },
  {
   "cell_type": "code",
   "execution_count": 22,
   "metadata": {},
   "outputs": [
    {
     "name": "stdout",
     "output_type": "stream",
     "text": [
      "riding bicycle\n",
      "cooking food\n",
      "playing chess from father\n"
     ]
    }
   ],
   "source": [
    "o.ride()\n",
    "o.cooking()\n",
    "o.chess()"
   ]
  },
  {
   "cell_type": "code",
   "execution_count": null,
   "metadata": {},
   "outputs": [],
   "source": [
    "MULTILEVEL INHERITANCE"
   ]
  },
  {
   "cell_type": "code",
   "execution_count": 31,
   "metadata": {},
   "outputs": [
    {
     "name": "stdout",
     "output_type": "stream",
     "text": [
      "son have a bike\n",
      "father bike\n",
      "grandpa house\n"
     ]
    }
   ],
   "source": [
    "class grandpa:\n",
    "    def house(self):\n",
    "        print('grandpa house')\n",
    "        \n",
    "class father(grandpa):\n",
    "    def bike(self):\n",
    "        print('father bike')\n",
    "        \n",
    "class son(father):\n",
    "    def money(self):\n",
    "        print('son have a bike')\n",
    "        \n",
    "obj = son()\n",
    "obj.money()\n",
    "obj.bike()\n",
    "obj.house()\n"
   ]
  }
 ],
 "metadata": {
  "kernelspec": {
   "display_name": "Python 3",
   "language": "python",
   "name": "python3"
  },
  "language_info": {
   "codemirror_mode": {
    "name": "ipython",
    "version": 3
   },
   "file_extension": ".py",
   "mimetype": "text/x-python",
   "name": "python",
   "nbconvert_exporter": "python",
   "pygments_lexer": "ipython3",
   "version": "3.7.4"
  }
 },
 "nbformat": 4,
 "nbformat_minor": 2
}
