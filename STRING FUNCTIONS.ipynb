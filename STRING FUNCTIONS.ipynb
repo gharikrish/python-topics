{
 "cells": [
  {
   "cell_type": "code",
   "execution_count": 1,
   "metadata": {},
   "outputs": [
    {
     "name": "stdout",
     "output_type": "stream",
     "text": [
      "['__add__', '__class__', '__contains__', '__delattr__', '__dir__', '__doc__', '__eq__', '__format__', '__ge__', '__getattribute__', '__getitem__', '__getnewargs__', '__gt__', '__hash__', '__init__', '__init_subclass__', '__iter__', '__le__', '__len__', '__lt__', '__mod__', '__mul__', '__ne__', '__new__', '__reduce__', '__reduce_ex__', '__repr__', '__rmod__', '__rmul__', '__setattr__', '__sizeof__', '__str__', '__subclasshook__', 'capitalize', 'casefold', 'center', 'count', 'encode', 'endswith', 'expandtabs', 'find', 'format', 'format_map', 'index', 'isalnum', 'isalpha', 'isascii', 'isdecimal', 'isdigit', 'isidentifier', 'islower', 'isnumeric', 'isprintable', 'isspace', 'istitle', 'isupper', 'join', 'ljust', 'lower', 'lstrip', 'maketrans', 'partition', 'replace', 'rfind', 'rindex', 'rjust', 'rpartition', 'rsplit', 'rstrip', 'split', 'splitlines', 'startswith', 'strip', 'swapcase', 'title', 'translate', 'upper', 'zfill']\n"
     ]
    }
   ],
   "source": [
    "print(dir(str))\n"
   ]
  },
  {
   "cell_type": "code",
   "execution_count": 7,
   "metadata": {},
   "outputs": [
    {
     "name": "stdout",
     "output_type": "stream",
     "text": [
      "HELLO,WORLD\n"
     ]
    }
   ],
   "source": [
    "a = \"Hello,world\"\n",
    "print(a.upper())"
   ]
  },
  {
   "cell_type": "code",
   "execution_count": 8,
   "metadata": {},
   "outputs": [
    {
     "name": "stdout",
     "output_type": "stream",
     "text": [
      "hello,world\n"
     ]
    }
   ],
   "source": [
    "a = \"HELLO,WORLD\"\n",
    "print(a.lower())"
   ]
  },
  {
   "cell_type": "code",
   "execution_count": 10,
   "metadata": {},
   "outputs": [
    {
     "name": "stdout",
     "output_type": "stream",
     "text": [
      "   hello world   \n",
      "hello world\n"
     ]
    }
   ],
   "source": [
    "a = \"   hello world   \"\n",
    "b = a.strip()\n",
    "print(a)\n",
    "print(b)"
   ]
  },
  {
   "cell_type": "code",
   "execution_count": 13,
   "metadata": {},
   "outputs": [
    {
     "name": "stdout",
     "output_type": "stream",
     "text": [
      "hello world\n",
      "hi this is world\n"
     ]
    }
   ],
   "source": [
    "a = \"hello world\"\n",
    "b = a.replace(\"hello\",\"hi this is\")\n",
    "print(a)\n",
    "print(b)"
   ]
  },
  {
   "cell_type": "code",
   "execution_count": 14,
   "metadata": {},
   "outputs": [
    {
     "name": "stdout",
     "output_type": "stream",
     "text": [
      "this is chennai supper kings\n",
      "['this', 'is', 'chennai', 'supper', 'kings']\n"
     ]
    }
   ],
   "source": [
    "a = \"this is chennai supper kings\"\n",
    "b = a.split(\" \")\n",
    "print(a)\n",
    "print(b)"
   ]
  },
  {
   "cell_type": "code",
   "execution_count": 17,
   "metadata": {},
   "outputs": [
    {
     "name": "stdout",
     "output_type": "stream",
     "text": [
      "hi this hari krishnan\n"
     ]
    }
   ],
   "source": [
    "a = \"hi\"\n",
    "b = \"this\"\n",
    "c = \"hari krishnan\"\n",
    "print(a+\" \"+b+\" \"+c) # string concatenation\n"
   ]
  },
  {
   "cell_type": "code",
   "execution_count": 20,
   "metadata": {},
   "outputs": [
    {
     "name": "stdout",
     "output_type": "stream",
     "text": [
      "my name is john ,i am 36\n"
     ]
    }
   ],
   "source": [
    "#string format\n",
    "a = 36\n",
    "b = \"my name is john ,i am\" + \" \"+str(a)\n",
    "print(b)"
   ]
  },
  {
   "cell_type": "code",
   "execution_count": 22,
   "metadata": {},
   "outputs": [
    {
     "name": "stdout",
     "output_type": "stream",
     "text": [
      "my name is john ,i am 36\n"
     ]
    }
   ],
   "source": [
    "a = 36\n",
    "b = \"my name is john ,i am {}\"\n",
    "print(b.format(a))  #string format"
   ]
  },
  {
   "cell_type": "code",
   "execution_count": 24,
   "metadata": {},
   "outputs": [
    {
     "name": "stdout",
     "output_type": "stream",
     "text": [
      "hari is 23.kk is22.jk is56\n",
      "hari is 56.kk is23.jk is23\n"
     ]
    }
   ],
   "source": [
    "a = 23\n",
    "b = 22\n",
    "c = 56\n",
    "d=\"hari is {}.kk is{}.jk is{}\"\n",
    "print(d.format(a,b,c))\n",
    "print(d.format(c,a,a))"
   ]
  },
  {
   "cell_type": "code",
   "execution_count": 27,
   "metadata": {},
   "outputs": [
    {
     "name": "stdout",
     "output_type": "stream",
     "text": [
      "we are the so called \"vikings \" from the north.\n"
     ]
    }
   ],
   "source": [
    "\"\"\"   ESCAPE CHARACTER    \"\"\"\n",
    "\n",
    "\n",
    "#txt = \"we are the so called \"vikings\" from the north.\"\n",
    "txt = \"we are the so called \\\"vikings \\\" from the north.\"\n",
    "print(txt)"
   ]
  },
  {
   "cell_type": "code",
   "execution_count": 28,
   "metadata": {},
   "outputs": [
    {
     "name": "stdout",
     "output_type": "stream",
     "text": [
      "{1: 'capitalize', 2: 'casefold', 3: 'center', 4: 'count', 5: 'encode', 6: 'endswith', 7: 'expandtabs', 8: 'find', 9: 'format', 10: 'format_map', 11: 'index', 12: 'isalnum', 13: 'isalpha', 14: 'isascii', 15: 'isdecimal', 16: 'isdigit', 17: 'isidentifier', 18: 'islower', 19: 'isnumeric', 20: 'isprintable', 21: 'isspace', 22: 'istitle', 23: 'isupper', 24: 'join', 25: 'ljust', 26: 'lower', 27: 'lstrip', 28: 'maketrans', 29: 'partition', 30: 'replace', 31: 'rfind', 32: 'rindex', 33: 'rjust', 34: 'rpartition', 35: 'rsplit', 36: 'rstrip', 37: 'split', 38: 'splitlines', 39: 'startswith', 40: 'strip', 41: 'swapcase', 42: 'title', 43: 'translate', 44: 'upper', 45: 'zfill'}\n"
     ]
    }
   ],
   "source": [
    "b = {}\n",
    "count = 1\n",
    "a = ['capitalize', 'casefold', 'center', 'count', 'encode', 'endswith', 'expandtabs', 'find', 'format', 'format_map', 'index', 'isalnum', 'isalpha', 'isascii', 'isdecimal', 'isdigit', 'isidentifier', 'islower', 'isnumeric', 'isprintable', 'isspace', 'istitle', 'isupper', 'join', 'ljust', 'lower', 'lstrip', 'maketrans', 'partition', 'replace', 'rfind', 'rindex', 'rjust', 'rpartition', 'rsplit', 'rstrip', 'split', 'splitlines', 'startswith', 'strip', 'swapcase', 'title', 'translate', 'upper', 'zfill']\n",
    "for i in a:\n",
    "    b[count] = i\n",
    "    count = count + 1\n",
    "print(b)\n",
    "    "
   ]
  },
  {
   "cell_type": "code",
   "execution_count": 31,
   "metadata": {},
   "outputs": [
    {
     "name": "stdout",
     "output_type": "stream",
     "text": [
      "hari krishnan\n"
     ]
    }
   ],
   "source": [
    "a = \"HARI Krishnan\"\n",
    "print(a.casefold())"
   ]
  },
  {
   "cell_type": "code",
   "execution_count": 44,
   "metadata": {},
   "outputs": [
    {
     "name": "stdout",
     "output_type": "stream",
     "text": [
      "this is hari krishnan from the chennai. sorry for the disturbance\n",
      "This is hari krishnan from the chennai. sorry for the disturbance\n",
      "This Is Hari Krishnan From The Chennai. Sorry For The Disturbance\n",
      "5\n",
      "True\n",
      "False\n",
      "31\n",
      "1\n",
      "17\n",
      "tiny star is hari krishnan from the chennai. sorry for the disturbance\n",
      "False\n"
     ]
    }
   ],
   "source": [
    "a = \"this is hari krishnan from the chennai. sorry for the disturbance\"\n",
    "print(a)\n",
    "print(a.capitalize()) # first letter only capital\n",
    "print(a.title())# each word capital\n",
    "print(a.count(\"s\"))\n",
    "print(a.endswith(\"ce\"))\n",
    "print(a.endswith(\"cr\"))\n",
    "print(a.find(\"c\"))\n",
    "print(a.find(\"h\"))\n",
    "print(a.find(\"h\",9))\n",
    "print(a.replace(\"this\",\"tiny star\"))\n"
   ]
  },
  {
   "cell_type": "code",
   "execution_count": 51,
   "metadata": {},
   "outputs": [
    {
     "name": "stdout",
     "output_type": "stream",
     "text": [
      "False\n",
      "True\n",
      "True\n",
      "False\n",
      "True\n",
      "True\n",
      "False\n"
     ]
    }
   ],
   "source": [
    "# boolean functions\n",
    "b = \"joes\"\n",
    "print(a.isupper())\n",
    "c = \"JOES123\"\n",
    "print(c.isupper())\n",
    "print(b.islower())\n",
    "print(c.islower())\n",
    "print(b.isalnum())\n",
    "print(b.isalpha())\n",
    "print(c.isalpha())\n"
   ]
  },
  {
   "cell_type": "code",
   "execution_count": 54,
   "metadata": {},
   "outputs": [
    {
     "name": "stdout",
     "output_type": "stream",
     "text": [
      "['he', 'is', ' good']\n",
      "['he\\n', 'is\\n', ' good']\n"
     ]
    }
   ],
   "source": [
    "s = \"he\\nis\\n good\"\n",
    "print(s.splitlines())\n",
    "print(s.splitlines(True))"
   ]
  },
  {
   "cell_type": "code",
   "execution_count": 64,
   "metadata": {},
   "outputs": [
    {
     "name": "stdout",
     "output_type": "stream",
     "text": [
      "['hari', 'krishnan', 'computer', 'education']\n",
      "['hari', 'krishnan', 'computer', 'education']\n",
      "    hari   krishnan      \n",
      "15\n",
      "tut   \n",
      "    tut\n"
     ]
    }
   ],
   "source": [
    "a = \"hari krishnan computer education\"\n",
    "print(a.split(\" \"))\n",
    "b = \"hari,krishnan,computer,education\"\n",
    "print(b.split(\",\"))\n",
    "a = \"    hari   krishnan      \"\n",
    "print(a)\n",
    "aa= a.strip()\n",
    "print(len(aa))\n",
    "ab = \"    tut   \"\n",
    "print(ab.lstrip())\n",
    "print(ab.rstrip())"
   ]
  },
  {
   "cell_type": "code",
   "execution_count": 66,
   "metadata": {},
   "outputs": [
    {
     "name": "stdout",
     "output_type": "stream",
     "text": [
      "('12', '-', '03-2020')\n",
      "aswe sasa\n",
      "ASWE SASA\n"
     ]
    }
   ],
   "source": [
    "a = \"12-03-2020\"\n",
    "print(a.partition(\"-\"))\n",
    "\n",
    "au = \"aswe sasa\"\n",
    "v = au.swapcase()\n",
    "print(au)\n",
    "print(v)"
   ]
  },
  {
   "cell_type": "code",
   "execution_count": 75,
   "metadata": {},
   "outputs": [
    {
     "name": "stdout",
     "output_type": "stream",
     "text": [
      "00000hello\n",
      "welcome to the house\n",
      "000010.000\n",
      "0000000001\n"
     ]
    }
   ],
   "source": [
    "a = \"hello\"\n",
    "b = \"welcome to the house\"\n",
    "c = \"10.000\"\n",
    "z = \"1\"\n",
    "print(a.zfill(10))\n",
    "print(b.zfill(10))\n",
    "print(c.zfill(10))\n",
    "print(z.zfill(10))"
   ]
  },
  {
   "cell_type": "code",
   "execution_count": 74,
   "metadata": {},
   "outputs": [
    {
     "name": "stdout",
     "output_type": "stream",
     "text": [
      "HIS JPOJOPJO \n"
     ]
    }
   ],
   "source": [
    "file  = open(\"E:\\\\pop.txt\",\"r\")\n",
    "print(file.read())"
   ]
  },
  {
   "cell_type": "code",
   "execution_count": null,
   "metadata": {},
   "outputs": [],
   "source": []
  }
 ],
 "metadata": {
  "kernelspec": {
   "display_name": "Python 3",
   "language": "python",
   "name": "python3"
  },
  "language_info": {
   "codemirror_mode": {
    "name": "ipython",
    "version": 3
   },
   "file_extension": ".py",
   "mimetype": "text/x-python",
   "name": "python",
   "nbconvert_exporter": "python",
   "pygments_lexer": "ipython3",
   "version": "3.7.4"
  }
 },
 "nbformat": 4,
 "nbformat_minor": 2
}
