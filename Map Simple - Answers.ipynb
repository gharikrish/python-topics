{
 "cells": [
  {
   "cell_type": "markdown",
   "metadata": {},
   "source": [
    "# Map Simple Solutions"
   ]
  },
  {
   "cell_type": "code",
   "execution_count": 2,
   "metadata": {},
   "outputs": [
    {
     "name": "stdout",
     "output_type": "stream",
     "text": [
      "<map object at 0x000001A3A8C5DEE0>\n",
      "[1, 4, 9, 16, 25, 36, 49, 64, 81]\n"
     ]
    }
   ],
   "source": [
    "#1\n",
    "def square(n):\n",
    "    n = n*n\n",
    "    return n\n",
    "m = [1,2,3,4,5,6,7,8,9]\n",
    "updated = map(square, m)\n",
    "print(updated)\n",
    "print(list(updated))"
   ]
  },
  {
   "cell_type": "code",
   "execution_count": 3,
   "metadata": {},
   "outputs": [
    {
     "name": "stdout",
     "output_type": "stream",
     "text": [
      "<map object at 0x000001A3A8C5D1F0>\n",
      "[3, 4, 4, 6, 6, 8, 8, 10]\n"
     ]
    }
   ],
   "source": [
    "#2\n",
    "m = [2.6743,3.63526,4.2325,5.9687967,6.3265,7.6988,8.232,9.6907]\n",
    "updated = map(round, m)\n",
    "print(updated)\n",
    "print(list(updated))"
   ]
  },
  {
   "cell_type": "code",
   "execution_count": 4,
   "metadata": {},
   "outputs": [
    {
     "name": "stdout",
     "output_type": "stream",
     "text": [
      "<map object at 0x000001A3A8C5DD00>\n",
      "welcome to Aidinasaur!"
     ]
    }
   ],
   "source": [
    "#3\n",
    "def myMapFunc(s):\n",
    "    return s\n",
    "m = \"welcome to Aidinasaur!\"\n",
    "updated = map(myMapFunc, m)\n",
    "print(updated)\n",
    "for i in updated:\n",
    "    print(i, end=\"\")"
   ]
  },
  {
   "cell_type": "code",
   "execution_count": 5,
   "metadata": {},
   "outputs": [
    {
     "name": "stdout",
     "output_type": "stream",
     "text": [
      "<map object at 0x000001A3A8C5D0A0>\n",
      "[2, 3, 4, 5, 6, 7, 8, 9]\n"
     ]
    }
   ],
   "source": [
    "#4\n",
    "def myMapFunc(n):\n",
    "    return n\n",
    "\n",
    "m = [2,3,4,5,6,7,8,9]\n",
    "\n",
    "updated = map(myMapFunc, m)\n",
    "print(updated)\n",
    "print(list(updated))"
   ]
  },
  {
   "cell_type": "code",
   "execution_count": 6,
   "metadata": {},
   "outputs": [
    {
     "name": "stdout",
     "output_type": "stream",
     "text": [
      "<map object at 0x000001A3A8C5D0D0>\n",
      "('php', 'java', 'python', 'c++', 'c')\n"
     ]
    }
   ],
   "source": [
    "#5\n",
    "def myMapFunc(n):\n",
    "    return n\n",
    "tuples = ('php','java','python','c++','c')\n",
    "\n",
    "updated = map(myMapFunc, tuples)\n",
    "print(updated)\n",
    "print(tuple(updated))"
   ]
  },
  {
   "cell_type": "code",
   "execution_count": 7,
   "metadata": {},
   "outputs": [
    {
     "name": "stdout",
     "output_type": "stream",
     "text": [
      "<map object at 0x000001A3A8C5D640>\n",
      "[1, 2, 3, 4, 5, 6, 7, 8, 9]\n"
     ]
    }
   ],
   "source": [
    "#6\n",
    "def myMapFunc(n):\n",
    "    return n\n",
    "m = {1,2,3,4,5,6,7,8,9}\n",
    "finalitems = map(myMapFunc, m)\n",
    "print(finalitems)\n",
    "print(list(finalitems))"
   ]
  },
  {
   "cell_type": "code",
   "execution_count": 8,
   "metadata": {},
   "outputs": [
    {
     "name": "stdout",
     "output_type": "stream",
     "text": [
      "<map object at 0x000001A3A8C5D760>\n",
      "[1, 2, 3, 4, 5, 6, 7, 8, 9]\n"
     ]
    }
   ],
   "source": [
    "#7\n",
    "m= [1,2,3,4,5,6,7,8,9]\n",
    "updated = map(lambda x: x , m)\n",
    "print(updated)\n",
    "print(list(updated))"
   ]
  },
  {
   "cell_type": "code",
   "execution_count": 9,
   "metadata": {},
   "outputs": [
    {
     "name": "stdout",
     "output_type": "stream",
     "text": [
      "<map object at 0x000001A3A8CA0100>\n",
      "[6, 11, 16, 21, 26, 31, 36]\n"
     ]
    }
   ],
   "source": [
    "#8\n",
    "def myMapFunc(m1, m2):\n",
    "    return m1+m2\n",
    "\n",
    "m1 = [2,3,4,5,6,7,8,9]\n",
    "m2 = [4,8,12,16,20,24,28]\n",
    "\n",
    "updated = map(myMapFunc, m1,m2)\n",
    "print(updated)\n",
    "print(list(updated))"
   ]
  },
  {
   "cell_type": "code",
   "execution_count": 10,
   "metadata": {},
   "outputs": [
    {
     "name": "stdout",
     "output_type": "stream",
     "text": [
      "<map object at 0x000001A3A8CA00A0>\n",
      "['a:PHP', 'b:Java', 'c:Python', 'd:C++', 'e:C']\n"
     ]
    }
   ],
   "source": [
    "#9\n",
    "def myMapFunc(lists, tuples):\n",
    "    return lists+\":\"+tuples\n",
    "\n",
    "lists = ['a','b', 'c', 'd', 'e']\n",
    "tuples = ('PHP','Java','Python','C++','C')\n",
    "\n",
    "updated = map(myMapFunc, lists,tuples)\n",
    "print(updated)\n",
    "print(list(updated))"
   ]
  },
  {
   "cell_type": "code",
   "execution_count": 11,
   "metadata": {},
   "outputs": [
    {
     "name": "stdout",
     "output_type": "stream",
     "text": [
      "<map object at 0x000001A3A8CA0A30>\n",
      "[10, 20, 30, 40, 50, 60, 70, 80, 90]\n"
     ]
    }
   ],
   "source": [
    "#10\n",
    "def myMapFunc(n):\n",
    "    return n*10\n",
    "sets = {1,2,3,4,5,6,7,8,9}\n",
    "finalitems = map(myMapFunc, sets)\n",
    "print(finalitems)\n",
    "print(list(finalitems))"
   ]
  },
  {
   "cell_type": "code",
   "execution_count": null,
   "metadata": {},
   "outputs": [],
   "source": []
  }
 ],
 "metadata": {
  "kernelspec": {
   "display_name": "Python 3",
   "language": "python",
   "name": "python3"
  },
  "language_info": {
   "codemirror_mode": {
    "name": "ipython",
    "version": 3
   },
   "file_extension": ".py",
   "mimetype": "text/x-python",
   "name": "python",
   "nbconvert_exporter": "python",
   "pygments_lexer": "ipython3",
   "version": "3.7.4"
  }
 },
 "nbformat": 4,
 "nbformat_minor": 4
}
