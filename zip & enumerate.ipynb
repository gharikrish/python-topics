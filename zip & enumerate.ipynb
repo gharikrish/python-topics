{
 "cells": [
  {
   "cell_type": "code",
   "execution_count": 4,
   "metadata": {},
   "outputs": [
    {
     "name": "stdout",
     "output_type": "stream",
     "text": [
      "[(10, 'a'), (20, 'b'), (30, 'c')]\n"
     ]
    }
   ],
   "source": [
    "a = [10,20,30]\n",
    "b = ['a','b','c']\n",
    "zipped = zip(a,b)\n",
    "z_zipped = list(zipped)\n",
    "print(z_zipped)"
   ]
  },
  {
   "cell_type": "code",
   "execution_count": 6,
   "metadata": {},
   "outputs": [
    {
     "name": "stdout",
     "output_type": "stream",
     "text": [
      "[(10, 'a'), (20, 'b'), (30, 'c')]\n"
     ]
    }
   ],
   "source": [
    "c = [10,20,30]\n",
    "d = ['a','b','c','d']\n",
    "zipped = zip(c,d)\n",
    "z_zipped = list(zipped)\n",
    "print(z_zipped)"
   ]
  },
  {
   "cell_type": "code",
   "execution_count": 7,
   "metadata": {},
   "outputs": [
    {
     "name": "stdout",
     "output_type": "stream",
     "text": [
      "(('james', 'par', 20000), ('sally', 'roy', 30000), ('louis', 'mark', 18000), ('megna', 'raj', 36000))\n"
     ]
    }
   ],
   "source": [
    "fn = ['james','sally','louis','megna']\n",
    "ln = ['par','roy','mark','raj']\n",
    "salary = [20000,30000,18000,36000]\n",
    "zipe = zip(fn,ln,salary)\n",
    "print(tuple(zipe))"
   ]
  },
  {
   "cell_type": "code",
   "execution_count": 8,
   "metadata": {},
   "outputs": [
    {
     "name": "stdout",
     "output_type": "stream",
     "text": [
      "james par 20000\n",
      "sally roy 30000\n",
      "louis mark 18000\n",
      "megna raj 36000\n"
     ]
    }
   ],
   "source": [
    "fn = ['james','sally','louis','megna']\n",
    "ln = ['par','roy','mark','raj']\n",
    "salary = [20000,30000,18000,36000]\n",
    "zipe = zip(fn,ln,salary)\n",
    "for x,y,z in zipe:\n",
    "    print(x , y , z)"
   ]
  },
  {
   "cell_type": "code",
   "execution_count": 17,
   "metadata": {},
   "outputs": [
    {
     "name": "stdout",
     "output_type": "stream",
     "text": [
      "[('james', 'sally', 'louis', 'megna'), ('par', 'roy', 'mark', 'raj'), (20000, 30000, 18000, 36000)]\n"
     ]
    }
   ],
   "source": [
    "# unzip\n",
    "zipe = zip(fn,ln,salary)\n",
    "unzip = zip(*zipe)\n",
    "print(list(unzip))"
   ]
  },
  {
   "cell_type": "code",
   "execution_count": 20,
   "metadata": {},
   "outputs": [
    {
     "name": "stdout",
     "output_type": "stream",
     "text": [
      "[(0, 'james'), (1, 'sally'), (2, 'louis'), (3, 'megna'), (4, 'james'), (5, 'louis')]\n"
     ]
    }
   ],
   "source": [
    "#enumerate\n",
    "\n",
    "a = ['james','sally','louis','megna','james','louis']\n",
    "enum = enumerate(a)\n",
    "print(list(enum))"
   ]
  },
  {
   "cell_type": "code",
   "execution_count": 21,
   "metadata": {},
   "outputs": [
    {
     "name": "stdout",
     "output_type": "stream",
     "text": [
      "[(20, 'james'), (21, 'sally'), (22, 'louis'), (23, 'megna'), (24, 'james'), (25, 'louis')]\n"
     ]
    }
   ],
   "source": [
    "a = ['james','sally','louis','megna','james','louis']\n",
    "enum = enumerate(a,20) # index will be set our choice\n",
    "print(list(enum))"
   ]
  },
  {
   "cell_type": "code",
   "execution_count": 24,
   "metadata": {},
   "outputs": [
    {
     "name": "stdout",
     "output_type": "stream",
     "text": [
      "0 james\n",
      "1 sally\n",
      "2 louis\n",
      "3 megna\n",
      "4 james\n",
      "5 louis\n"
     ]
    }
   ],
   "source": [
    "a = ['james','sally','louis','megna','james','louis']\n",
    "enum = enumerate(a) # index will be set our choice\n",
    "for i,j in enum:\n",
    "    print(i,j) # double entry checking for indexes"
   ]
  },
  {
   "cell_type": "code",
   "execution_count": 26,
   "metadata": {},
   "outputs": [
    {
     "name": "stdout",
     "output_type": "stream",
     "text": [
      "0\n",
      "4\n"
     ]
    }
   ],
   "source": [
    "a = ['james','sally','louis','megna','james','louis']\n",
    "print(a.index('james'))\n",
    "\n",
    "a = ['james','sally','louis','megna','james','louis']\n",
    "print(a.index('james',1))"
   ]
  }
 ],
 "metadata": {
  "kernelspec": {
   "display_name": "Python 3",
   "language": "python",
   "name": "python3"
  },
  "language_info": {
   "codemirror_mode": {
    "name": "ipython",
    "version": 3
   },
   "file_extension": ".py",
   "mimetype": "text/x-python",
   "name": "python",
   "nbconvert_exporter": "python",
   "pygments_lexer": "ipython3",
   "version": "3.7.4"
  }
 },
 "nbformat": 4,
 "nbformat_minor": 2
}
